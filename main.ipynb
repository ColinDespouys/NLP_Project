{
 "cells": [
  {
   "cell_type": "code",
   "execution_count": 2,
   "metadata": {},
   "outputs": [
    {
     "name": "stdout",
     "output_type": "stream",
     "text": [
      "Requirement already satisfied: feedparser in c:\\users\\colin\\appdata\\local\\programs\\python\\python38\\lib\\site-packages (6.0.11)\n",
      "Requirement already satisfied: sgmllib3k in c:\\users\\colin\\appdata\\local\\programs\\python\\python38\\lib\\site-packages (from feedparser) (1.0.0)\n"
     ]
    },
    {
     "name": "stderr",
     "output_type": "stream",
     "text": [
      "WARNING: You are using pip version 21.1.1; however, version 24.0 is available.\n",
      "You should consider upgrading via the 'c:\\users\\colin\\appdata\\local\\programs\\python\\python38\\python.exe -m pip install --upgrade pip' command.\n"
     ]
    },
    {
     "name": "stdout",
     "output_type": "stream",
     "text": [
      "Requirement already satisfied: newspaper3k in c:\\users\\colin\\appdata\\local\\programs\\python\\python38\\lib\\site-packages (0.2.8)\n",
      "Requirement already satisfied: lxml>=3.6.0 in c:\\users\\colin\\appdata\\local\\programs\\python\\python38\\lib\\site-packages (from newspaper3k) (5.1.0)\n",
      "Requirement already satisfied: tldextract>=2.0.1 in c:\\users\\colin\\appdata\\local\\programs\\python\\python38\\lib\\site-packages (from newspaper3k) (5.1.1)\n",
      "Requirement already satisfied: feedparser>=5.2.1 in c:\\users\\colin\\appdata\\local\\programs\\python\\python38\\lib\\site-packages (from newspaper3k) (6.0.11)\n",
      "Requirement already satisfied: feedfinder2>=0.0.4 in c:\\users\\colin\\appdata\\local\\programs\\python\\python38\\lib\\site-packages (from newspaper3k) (0.0.4)\n",
      "Requirement already satisfied: cssselect>=0.9.2 in c:\\users\\colin\\appdata\\local\\programs\\python\\python38\\lib\\site-packages (from newspaper3k) (1.2.0)\n",
      "Requirement already satisfied: python-dateutil>=2.5.3 in c:\\users\\colin\\appdata\\roaming\\python\\python38\\site-packages (from newspaper3k) (2.8.2)\n",
      "Requirement already satisfied: beautifulsoup4>=4.4.1 in c:\\users\\colin\\appdata\\local\\programs\\python\\python38\\lib\\site-packages (from newspaper3k) (4.12.2)\n",
      "Requirement already satisfied: tinysegmenter==0.3 in c:\\users\\colin\\appdata\\local\\programs\\python\\python38\\lib\\site-packages (from newspaper3k) (0.3)\n",
      "Requirement already satisfied: PyYAML>=3.11 in c:\\users\\colin\\appdata\\local\\programs\\python\\python38\\lib\\site-packages (from newspaper3k) (6.0.1)\n",
      "Requirement already satisfied: nltk>=3.2.1 in c:\\users\\colin\\appdata\\local\\programs\\python\\python38\\lib\\site-packages (from newspaper3k) (3.8.1)\n",
      "Requirement already satisfied: jieba3k>=0.35.1 in c:\\users\\colin\\appdata\\local\\programs\\python\\python38\\lib\\site-packages (from newspaper3k) (0.35.1)\n",
      "Requirement already satisfied: requests>=2.10.0 in c:\\users\\colin\\appdata\\local\\programs\\python\\python38\\lib\\site-packages (from newspaper3k) (2.31.0)\n",
      "Requirement already satisfied: Pillow>=3.3.0 in c:\\users\\colin\\appdata\\roaming\\python\\python38\\site-packages (from newspaper3k) (10.1.0)\n",
      "Requirement already satisfied: soupsieve>1.2 in c:\\users\\colin\\appdata\\local\\programs\\python\\python38\\lib\\site-packages (from beautifulsoup4>=4.4.1->newspaper3k) (2.5)\n",
      "Requirement already satisfied: six in c:\\users\\colin\\appdata\\roaming\\python\\python38\\site-packages (from feedfinder2>=0.0.4->newspaper3k) (1.16.0)\n",
      "Requirement already satisfied: sgmllib3k in c:\\users\\colin\\appdata\\local\\programs\\python\\python38\\lib\\site-packages (from feedparser>=5.2.1->newspaper3k) (1.0.0)\n",
      "Requirement already satisfied: click in c:\\users\\colin\\appdata\\local\\programs\\python\\python38\\lib\\site-packages (from nltk>=3.2.1->newspaper3k) (8.1.7)\n",
      "Requirement already satisfied: regex>=2021.8.3 in c:\\users\\colin\\appdata\\local\\programs\\python\\python38\\lib\\site-packages (from nltk>=3.2.1->newspaper3k) (2023.12.25)\n",
      "Requirement already satisfied: joblib in c:\\users\\colin\\appdata\\local\\programs\\python\\python38\\lib\\site-packages (from nltk>=3.2.1->newspaper3k) (1.3.2)\n",
      "Requirement already satisfied: tqdm in c:\\users\\colin\\appdata\\local\\programs\\python\\python38\\lib\\site-packages (from nltk>=3.2.1->newspaper3k) (4.66.1)\n",
      "Requirement already satisfied: certifi>=2017.4.17 in c:\\users\\colin\\appdata\\local\\programs\\python\\python38\\lib\\site-packages (from requests>=2.10.0->newspaper3k) (2023.11.17)\n",
      "Requirement already satisfied: idna<4,>=2.5 in c:\\users\\colin\\appdata\\local\\programs\\python\\python38\\lib\\site-packages (from requests>=2.10.0->newspaper3k) (3.6)\n",
      "Requirement already satisfied: charset-normalizer<4,>=2 in c:\\users\\colin\\appdata\\local\\programs\\python\\python38\\lib\\site-packages (from requests>=2.10.0->newspaper3k) (3.3.2)\n",
      "Requirement already satisfied: urllib3<3,>=1.21.1 in c:\\users\\colin\\appdata\\local\\programs\\python\\python38\\lib\\site-packages (from requests>=2.10.0->newspaper3k) (2.1.0)\n",
      "Requirement already satisfied: filelock>=3.0.8 in c:\\users\\colin\\appdata\\local\\programs\\python\\python38\\lib\\site-packages (from tldextract>=2.0.1->newspaper3k) (3.13.1)\n",
      "Requirement already satisfied: requests-file>=1.4 in c:\\users\\colin\\appdata\\local\\programs\\python\\python38\\lib\\site-packages (from tldextract>=2.0.1->newspaper3k) (2.0.0)\n",
      "Requirement already satisfied: colorama in c:\\users\\colin\\appdata\\roaming\\python\\python38\\site-packages (from click->nltk>=3.2.1->newspaper3k) (0.4.6)\n"
     ]
    },
    {
     "name": "stderr",
     "output_type": "stream",
     "text": [
      "WARNING: You are using pip version 21.1.1; however, version 24.0 is available.\n",
      "You should consider upgrading via the 'c:\\users\\colin\\appdata\\local\\programs\\python\\python38\\python.exe -m pip install --upgrade pip' command.\n",
      "c:\\Users\\Colin\\AppData\\Local\\Programs\\Python\\Python38\\python.exe: No module named spacy\n"
     ]
    }
   ],
   "source": [
    "!pip install feedparser\n",
    "!pip install newspaper3k\n",
    "!python -m spacy download fr_core_news_md"
   ]
  },
  {
   "cell_type": "code",
   "execution_count": 3,
   "metadata": {},
   "outputs": [
    {
     "name": "stdout",
     "output_type": "stream",
     "text": [
      "Le Monde.fr - Actualités et Infos en France et dans le monde\n",
      "Sat, 17 Feb 2024 12:49:19 +0000\n",
      "L’Egypte construit une zone de sécurité dans le Sinaï, en prévision d’un éventuel afflux de réfugiés gazaouis Sat, 17 Feb 2024 12:59:08 +0100 https://www.lemonde.fr/international/article/2024/02/17/l-egypte-construit-une-zone-de-securite-dans-le-sinai-en-prevision-d-un-eventuel-afflux-de-refugies-gazaouis_6217082_3210.html\n",
      "L’assassinat d’Alexeï Navalny Sat, 17 Feb 2024 11:00:17 +0100 https://www.lemonde.fr/idees/article/2024/02/17/l-assassinat-d-alexei-navalny_6217068_3232.html\n",
      "Les boucles WhatsApp de policiers, et leurs messages parfois racistes, sexistes ou violents, préoccupent la hiérarchie Sat, 17 Feb 2024 06:54:49 +0100 https://www.lemonde.fr/societe/article/2024/02/17/les-boucles-whatsapp-un-phenomene-dont-la-police-tente-de-maitriser-l-usage-intempestif-en-son-sein_6217039_3224.html\n",
      "La ville d’Avdiïvka tombe aux mains de l’armée russe après des mois de combats Sat, 17 Feb 2024 10:00:29 +0100 https://www.lemonde.fr/international/article/2024/02/17/guerre-en-ukraine-les-forces-russes-s-emparent-de-la-ville-d-avdiivka_6217056_3210.html\n",
      "Réensauvager le monde pour préserver la biodiversité, une idée controversée qui gagne du terrain Fri, 16 Feb 2024 18:00:03 +0100 https://www.lemonde.fr/idees/article/2024/02/16/reensauvager-le-monde-pour-preserver-la-biodiversite-une-idee-controversee-qui-gagne-du-terrain_6216954_3232.html\n",
      "Massacres, viols de masse… Que se passe-t-il en République démocratique du Congo ? Comprendre en trois minutes Sat, 17 Feb 2024 06:00:19 +0100 https://www.lemonde.fr/comprendre-en-3-minutes/video/2024/02/17/massacres-viols-de-masse-que-se-passe-t-il-en-republique-democratique-du-congo-comprendre-en-trois-minutes_6217032_6176282.html\n",
      "Aux vœux des députés RN, un discours moins policé et le rejet de « l’étranger » Sat, 17 Feb 2024 05:45:04 +0100 https://www.lemonde.fr/politique/article/2024/02/17/aux-v-ux-des-deputes-rn-derriere-la-quete-de-notabilite-l-obsession-pour-l-immigration_6217028_823448.html\n",
      "Le point sur la grève à la SNCF ce week-end : pas de chaos malgré une circulation des trains « fortement perturbée » Sat, 17 Feb 2024 06:35:36 +0100 https://www.lemonde.fr/economie/article/2024/02/17/greve-a-la-sncf-pas-de-chaos-dans-les-gares-malgre-une-circulation-des-trains-fortement-perturbee_6217036_3234.html\n",
      "« La Commission européenne prévoit une augmentation vertigineuse de la demande de matières premières critiques » Fri, 16 Feb 2024 14:00:04 +0100 https://www.lemonde.fr/idees/article/2024/02/16/la-commission-europeenne-prevoit-une-augmentation-vertigineuse-de-la-demande-de-matieres-premieres-critiques_6216912_3232.html\n",
      "Quelles quantités d’eau sont prélevées et consommées par la population, les usines et l’agriculture en France ? Sat, 01 Apr 2023 06:00:21 +0200 https://www.lemonde.fr/les-decodeurs/article/2023/04/01/usines-agriculture-eau-potable-quelles-quantites-d-eau-sont-prelevees-et-consommees-par-secteur_6167836_4355770.html\n",
      "Après un emballement des réseaux sociaux, l’Inrae retire un message sur la place de la viande en cuisine Sat, 17 Feb 2024 11:00:20 +0100 https://www.lemonde.fr/planete/article/2024/02/17/apres-un-emballement-des-reseaux-sociaux-l-inrae-retire-un-message-sur-la-place-de-la-viande-en-cuisine_6217066_3244.html\n",
      "Victor Wembanyama, parmi les étoiles du All-Star Weekend, poursuit sa découverte de la NBA Fri, 16 Feb 2024 20:00:06 +0100 https://www.lemonde.fr/sport/article/2024/02/16/victor-wembanyama-parmi-les-etoiles-du-all-star-week-end-poursuit-sa-decouverte-de-la-nba_6216975_3242.html\n",
      "En invoquant le « réarmement », Emmanuel Macron tente de sauver une rhétorique qui s’use avec le temps Wed, 14 Feb 2024 05:45:03 +0100 https://www.lemonde.fr/idees/article/2024/02/14/en-invoquant-le-rearmement-emmanuel-macron-tente-de-sauver-une-rhetorique-qui-s-use-avec-le-temps_6216440_3232.html\n",
      "Le Musée d’histoire naturelle de New York ferme ses collections consacrées aux cultures autochtones Sat, 17 Feb 2024 06:00:12 +0100 https://www.lemonde.fr/culture/article/2024/02/17/le-musee-d-histoire-naturelle-de-new-york-ferme-ses-collections-consacrees-aux-cultures-autochtones_6217029_3246.html\n",
      "La calculatrice, premier numéro des énigmes maths du « Monde » Sat, 17 Feb 2024 10:00:08 +0100 https://www.lemonde.fr/sciences/article/2024/02/17/la-calculatrice-premier-numero-des-enigmes-maths-du-monde_6217058_1650684.html\n",
      "Mohamed Bourouissa, artiste touche-à-tout créateur d’espaces Sat, 17 Feb 2024 12:00:15 +0100 https://www.lemonde.fr/culture/article/2024/02/17/mohamed-bourouissa-artiste-touche-a-tout-createur-d-espaces_6217079_3246.html\n",
      "Un homme qui « menaçait » des policiers avec une « lame de boucher » tué à Paris Sat, 17 Feb 2024 11:15:15 +0100 https://www.lemonde.fr/societe/article/2024/02/17/un-homme-qui-menacait-des-policiers-avec-une-lame-de-boucher-tue-a-paris_6217070_3224.html\n",
      "Arnaud Dalibot, restaurateur : « J’ai toujours rêvé de proposer du sorbet aux prunes comme le faisait ma grand-mère : artisanal, savoureux, accessible à tous » Fri, 16 Feb 2024 15:41:30 +0100 https://www.lemonde.fr/m-styles/article/2024/02/16/arnaud-dalibot-restaurateur-j-ai-toujours-reve-de-proposer-du-sorbet-aux-prunes-comme-le-faisait-ma-grand-mere-artisanal-savoureux-accessible-a-tous_6216926_4497319.html\n"
     ]
    }
   ],
   "source": [
    "# (a) se premunir contre le bloquage de commande\n",
    "import ssl\n",
    "ssl._create_default_https_context = ssl._create_unverified_context\n",
    "# (b) recuperer le fichier RSS\n",
    "import feedparser as fp\n",
    "url = \"https://www.lemonde.fr/rss/une.xml\"\n",
    "data = fp.parse(url)\n",
    "# (c) visualiser les elements du fichier RSS\n",
    "print(data.feed.title)\n",
    "print(data.feed.published)\n",
    "# (d) iterer sur les entrees du flux RSS\n",
    "for item in data.entries:\n",
    "    print(item.title, item.published, item.link)"
   ]
  },
  {
   "cell_type": "markdown",
   "metadata": {},
   "source": [
    "1. En vous aidant de l’exemple ci-dessus, ´ecrire un premier programme (une cellule dans le note-\n",
    "book) qui r´ealise les op´erations suivantes :\n",
    "• lecture de la base de donn´ees existantes francetvinfo.json – regardez au passage la\n",
    "structure de ce fichier json et les informations qu’il contient\n",
    "• identifier les informations disponibles dans le flux RSS de l’exemple ci-dessus et les ´el´ements\n",
    "correspondants dans la structure de donn´ees retourn´ees par fp.parse\n",
    "• pour chacun des flux RSS list´es dans le fichier tvinfo-sources.json :\n",
    "– lire les donn´ees du flux RSS\n",
    "– scanner les articles et rep´erer ceux qui ne sont pas d´ej`a pr´esents dans la base de donn´ees"
   ]
  },
  {
   "cell_type": "code",
   "execution_count": 22,
   "metadata": {},
   "outputs": [],
   "source": [
    "import feedparser\n",
    "import json\n",
    "\n",
    "# Load existing database\n",
    "with open('data/francetvinfo.json', 'r', encoding=\"utf-8\") as f:\n",
    "    database = json.load(f)\n",
    "\n",
    "# Load RSS sources\n",
    "with open('data/tvinfo-sources.json', 'r') as f:\n",
    "    rss_sources = json.load(f)\n",
    "\n",
    "# Function to check if an article is already in the database\n",
    "def is_article_in_database(article, database):\n",
    "    for entry in database:\n",
    "        if article.title == entry['title'] and article.published == entry['published']:\n",
    "            return True\n",
    "    return False"
   ]
  },
  {
   "cell_type": "code",
   "execution_count": 38,
   "metadata": {},
   "outputs": [
    {
     "name": "stdout",
     "output_type": "stream",
     "text": [
      "First 5 keys and their corresponding values:\n",
      "Key: https://www.francetvinfo.fr/sante/prevention/eure-quand-les-elus-apprennent-a-se-defendre_3791635.html#xtor=RSS-3-[france] Value: {'title': \"Violences contre les maires : dans l'Eure, des élus apprennent à se défendre\", 'date': '2020-01-19T16:31:16', 'author': [], 'category': 'france', 'content': 'Beaucoup de maires et de secrétaires de mairie ont rencontré au cours de leurs mandats des problèmes de violence, essentiellement verbale. C\\'est le cas de Claire. Un jour, un homme est entré dans son bureau et a frappé très fort sur son bureau pour l\\'intimider. \"J\\'ai réagi à l\\'instinct, j\\'ai essayé de discuter, mais ça s\\'est envenimé. Heureusement qu\\'une dame est arrivée à la permanence et a menacé d\\'appeler la gendarmerie\", raconte Claire Carrère-Godebout, maire (SE) de Graveron-Sémerville (Eure).\\n\\nDes professeurs de karaté et un psychologue\\n\\nLa plupart de ces élus ne savent pas comment se comporter face à une situation conflictuelle. Alors, l\\'Association des maires ruraux de l\\'Eure les initie à l\\'autodéfense, avec l\\'aide de professeurs de karaté. Et un psychologue leur a expliqué comment désamorcer un différent. \"C\\'est nécessaire qu\\'ils aient confiance en eux donc, à partir de là, je pense que cet atelier ne peut avoir que des bénéfices\", explique Christophe Micaux.', 'image_link': 'https://www.francetvinfo.fr/image/75rt1bxrp-7049/1500/843/20799631.png'}\n",
      "Key: https://www.francetvinfo.fr/france/video-sur-le-dos-d-un-aigle-pecheur-au-dessus-du-massif-du-mont-blanc-dont-les-glaciers-fondent-aujourd-hui-a-vue-d-oeil_3791583.html#xtor=RSS-3-[france] Value: {'title': \"VIDEO. Sur le dos d'un aigle pêcheur au-dessus du massif du Mont-Blanc dont les glaciers fondent aujourd'hui à vue d'œil\", 'date': '2020-01-19T16:30:02', 'author': [], 'category': 'france', 'content': '#AlertePollution Rivières ou sols contaminés, déchets industriels abandonnés… Vous vivez à proximité d’un site pollué ?\\n\\nCliquez ici pour nous alerter !\\n\\nEmbarquement immédiat à bord du vol qu’entreprend Victor, un Pygargue à queue blanche (Haliaeetus albicilla), au-dessus du massif du Mont-Blanc. Le plus grand aigle d’Europe, qui peut mesurer jusqu’à 2,50 mètres d’envergure et peser sept kilos, est une espèce en voie de disparition que des passionnés essaient de remettre dans la nature.\\n\\nCe jour-là, pour le magazine \"13h15 le dimanche\" (replay), le rapace se lance d’une grande hauteur, avec une caméra embarquée, pour rejoindre son maître qui l’attend tout en bas dans la vallée. Un paysage grandiose, mais en grand danger à cause du réchauffement climatique qui fait fondre les glaces, défile sous l’animal au vol majestueux.\\n\\n\"Les Alpes sont en train de brûler sous nos yeux et on regarde ailleurs\"\\n\\nVictor n’a pas raté sa piste d’atterrissage, soit le bras du fauconnier Jacques-Olivier Travers : \"C’est un aigle pêcheur qui vit dans l’air et dans l’eau car sa ressource alimentaire est principalement le poisson. Les glaciers sont la base de toute l’eau dans nos montagnes. Ce qui se passe en ce moment dans nos glaciers, c’est catastrophique. Et c’est pour ça que je suis là aujourd’hui. Pour attirer l’attention sur ce qui se passe\", affirme-t-il.\\n\\n\"On parle tout le temps de l’Antarctique, de l’Amazonie, mais j’ai l’impression qu’on ne voit pas que le cœur des Alpes est en train de fondre littéralement. Elles sont en train de brûler sous nos yeux et on regarde ailleurs. Derrière moi, on voit le glacier des Bossons. Quand j’étais enfant, je faisais dix minutes de marche pour le toucher. Aujourd’hui, il faut que je marche une heure et demie parce qu’il est remonté. Et ça, c’est partout dans les Alpes. J’espère que ces images vont toucher le cœur des gens pour qu’ils se disent qu’on va faire un effort pour sauver ce qui est sauvable.\"\\n\\n', 'image_link': 'https://www.francetvinfo.fr/image/75rt1br51-6dc7/1500/843/20799231.jpg'}\n",
      "Key: https://www.francetvinfo.fr/societe/video-massif-du-mont-blanc-la-hausse-des-temperatures-fait-s-ecrouler-la-montagne-par-pans-entier-a-haute-altitude_3791537.html#xtor=RSS-3-[france] Value: {'title': \"VIDEO. Dans le massif du Mont-Blanc, la hausse des températures fait s'écrouler la montagne par pans entiers\", 'date': '2020-01-19T16:29:55', 'author': [], 'category': 'france', 'content': '#AlertePollution Rivières ou sols contaminés, déchets industriels abandonnés… Vous vivez à proximité d’un site pollué ?\\n\\nCliquez ici pour nous alerter !\\n\\nLa hausse des températures, déjà responsable de la fonte accélérée des glaciers, est également la cause d’un phénomène plus récent : la montagne s’écroule par pans entiers, et à haute altitude ! Comme ici au sommet de la Tour Ronde qui culmine à 3 792 mètres dans le massif du Mont-Blanc, où s’est rendu le magazine \"13h15 le dimanche\" (replay). Les montagnards de la région ont longtemps cru ces parois en granit indestructibles.\\n\\nDeux guides de Chamonix, Philippe Batoux et Ludovic Ravanel, ce dernier également géomorphologue au CNRS, viennent aujourd’hui les ausculter à intervalles réguliers. Ce jour-là, ils constatent à nouveau leur dégradation continuelle. \"Il faut imaginer que c’est une pente qui pouvait se descendre à ski. Et là on la voit dans des conditions qui font que ça ne ressemble plus à une pente skiable\", se désole Philippe Batoux devant les éboulis au pied de la montagne.\\n\\n\"C’est vraiment l’érosion en direct\"\\n\\nPour connaître l’état de santé de la montagne, les deux hommes la passent au scanner. Les images recueillies leur permettent de détecter tout nouvel effondrement. \"En 2003, il a fait très chaud pendant quasiment trois mois, y compris dans le massif du Mont-Blanc. Ça tombait de partout : des pierres, des blocs, des éboulements, etc. Chez les alpinistes, dont j’étais à l’époque, on s’est vraiment questionné sur ces évolutions. On savait beaucoup de choses sur les glaciers, mais très peu sur les parois\", raconte le scientifique.\\n\\nDes pierres sont en train de tomber au loin… \"C’est vraiment l’érosion en direct… note-t-il. Le réchauffement climatique fait que le permafrost fond. C’est le liant qu’il y a dans le granit. Le permafrost, c’est un état thermique, c’est-à-dire que la roche est durablement gelée. Cette température négative permet la présence de glace dans les fissures. Elle a un rôle de ciment. On parle de béton de glace, de ciment de glace. Si on le fait fondre, du fait du réchauffement climatique, on assiste à des écroulements de plus en plus fréquents et volumineux.\"', 'image_link': 'https://www.francetvinfo.fr/image/75rt1bbzf-016d/1500/843/20798879.jpg'}\n",
      "Key: https://www.francetvinfo.fr/replay-magazine/france-2/13h15/13h15-du-dimanche-19-janvier-2020_3766797.html#xtor=RSS-3-[france] Value: {'title': '\"13h15 le dimanche\". Le Mont-Blanc, un mythe éternel ?', 'date': '2020-01-19T16:29:48', 'author': [], 'category': 'france', 'content': 'Point culminant de la chaîne des Alpes avec une altitude de 4 810 mètres, plus haut sommet d\\'Europe occidentale, le Mont-Blanc ne cesse d’attirer, d’impressionner, de fasciner… aussi bien l’amateur d’abîmes que le simple marcheur.\\n\\nCette montagne magique, située sur la frontière franco-italienne, entre le département de la Haute-Savoie, en France, et la vallée d\\'Aoste, en Italie, est le berceau de l’alpinisme. Elle fait rêver par sa beauté et son histoire.\\n\\nTémoin du réchauffement climatique\\n\\nPour ce document signé Jean-Sébastien Desbordes, Matthieu Martin et Anthony Santoro, le magazine \"13h15 le dimanche\" (Facebook, Twitter, #13h15) est allé à la rencontre de montagnards passionnés : des guides de père en fils, des alpinistes, ou des cristalliers explorant les entrailles du massif.\\n\\nCe mythe éternel, qui souffre aujourd’hui du réchauffement climatique, a été le théâtre de drames survenus sur ses pentes. L\\'un des plus poignants est celui qui a touché Jean Vincendon et François Henry, deux jeunes gens partis en 1956 pour son ascension hivernale… et qui n’en sont jamais revenus.\\n\\ndata:image/gif;base64,R0lGODlhAQABAAAAACH5BAEKAAEALAAAAAABAAEAAAICTAEAOw==', 'image_link': 'https://www.francetvinfo.fr/image/75rszkkvp-244f/1500/843/20786143.jpg'}\n",
      "Key: https://www.francetvinfo.fr/societe/loi-de-bioethique/loi-de-bioethique-les-opposants-a-la-pma-manifestent-a-paris_3791629.html#xtor=RSS-3-[france] Value: {'title': 'Loi de bioéthique : les opposants à la PMA manifestent à Paris', 'date': '2020-01-19T16:08:10', 'author': [], 'category': 'france', 'content': 'Des associations catholiques, des jeunes, des retraités, des familles ont répondu à l\\'appel du collectif \"Marchons Enfants !\", dimanche 19 janvier. Il rassemble 22 associations, dont la Manif pour tous, opposées à l\\'ouverture de la procréation médicalement assistée aux couples de lesbiennes et aux femmes célibataires et espère rassembler autant que le 6 octobre dernier. \"À l\\'époque, plus de 74 000 personnes avaient défilé à Paris\", rappelle la journaliste Carole Guyon, en direct du 7e arrondissement.\\n\\nUn texte déjà voté par l\\'Assemblée en première lecture\\n\\nDimanche 19 janvier, une centaine de cars venue de toute la France a été spécialement affrétée par les organisateurs. Le cortège défilera jusqu\\'à la place de l\\'Opéra, dans le 9e arrondissement. Pour ces opposants déterminés, l\\'objectif est clair : il s\\'agit d\\'obtenir le retrait pur et simple du projet de loi de bioéthique. Le texte, déjà voté par l\\'Assemblée nationale en première lecture, sera examiné à partir du 21 janvier par le Sénat.', 'image_link': 'https://www.francetvinfo.fr/image/75rt1bbs2-3fa9/1500/843/20798783.jpg'}\n"
     ]
    }
   ],
   "source": [
    "keys = list(database.keys())\n",
    "num_keys_to_display = 5  # Change this value to display a different number of keys\n",
    "\n",
    "print(\"First\", num_keys_to_display, \"keys and their corresponding values:\")\n",
    "for i in range(min(num_keys_to_display, len(keys))):\n",
    "    key = keys[i]\n",
    "    value = database[key]\n",
    "    clé_valeurs = list(database[keys[i]].keys())\n",
    "    print(\"Key:\", key, \"Value:\", value)"
   ]
  },
  {
   "cell_type": "code",
   "execution_count": 47,
   "metadata": {},
   "outputs": [
    {
     "name": "stdout",
     "output_type": "stream",
     "text": [
      "False\n"
     ]
    }
   ],
   "source": [
    "print(\"https://www.francetvinfo.fr/sante/prevention/eure-quand-les-elus-apprennent-a-se-defendre_3791635.html#xtor=RSS-3-[france]\" in database)"
   ]
  },
  {
   "cell_type": "code",
   "execution_count": 34,
   "metadata": {},
   "outputs": [
    {
     "name": "stdout",
     "output_type": "stream",
     "text": [
      "['title', 'date', 'author', 'category', 'content', 'image_link']\n"
     ]
    }
   ],
   "source": [
    "clé_valeurs = list(database[keys[0]].keys())\n",
    "print(clé_valeurs)"
   ]
  },
  {
   "cell_type": "code",
   "execution_count": 40,
   "metadata": {},
   "outputs": [
    {
     "name": "stdout",
     "output_type": "stream",
     "text": [
      "https://www.francetvinfo.fr/france.rss\n"
     ]
    }
   ],
   "source": [
    "print(rss_sources['france'])\n",
    "value = list(database[key].keys())"
   ]
  },
  {
   "cell_type": "code",
   "execution_count": 27,
   "metadata": {},
   "outputs": [
    {
     "name": "stdout",
     "output_type": "stream",
     "text": [
      "Franceinfo - France\n",
      "Sat, 17 Feb 2024 14:04:18 +0100\n",
      "Marseille : un suspect de 16 ans mis en examen pour assassinat après la mort d’une femme tuée par une balle perdue Sat, 17 Feb 2024 11:21:40 +0100 https://www.francetvinfo.fr/faits-divers/criminalite-a-marseille/marseille-un-suspect-de-16-ans-mis-en-examen-pour-assassinat-apres-la-mort-d-une-femme-tuee-par-une-balle-perdue_6371773.html#xtor=RSS-3-[france]\n",
      "William Saurin : \"Les Français redécouvrent la conserve\" assure son directeur marketing Sat, 17 Feb 2024 10:07:09 +0100 https://www.francetvinfo.fr/replay-radio/ca-nous-marque/william-saurin-les-francais-redecouvrent-la-conserve-assure-son-directeur-marketing_6341929.html#xtor=RSS-3-[france]\n",
      "Politesse : faut-il demander à ses invités de retirer leurs chaussures ? Fri, 16 Feb 2024 22:39:08 +0100 https://www.francetvinfo.fr/sante/politesse-faut-il-demander-a-ses-invites-de-retirer-leurs-chaussures_6370471.html#xtor=RSS-3-[france]\n",
      "Uniforme à l'école : la tenue unique ne fait pas l'unanimité Fri, 16 Feb 2024 22:23:22 +0100 https://www.francetvinfo.fr/societe/education/uniforme-a-l-ecole-la-tenue-unique-ne-fait-pas-l-unanimite_6370441.html#xtor=RSS-3-[france]\n",
      "Femme tuée par une balle perdue à Marseille : un suspect de 16 ans mis en examen pour assassinat Fri, 16 Feb 2024 22:08:26 +0100 https://www.francetvinfo.fr/faits-divers/femme-tuee-par-une-balle-perdue-a-marseille-un-suspect-de-16-ans-mis-en-examen-pour-assassinat_6370378.html#xtor=RSS-3-[france]\n",
      "Guerre en Ukraine : quelle aide la France peut-elle apporter ? Fri, 16 Feb 2024 17:09:52 +0100 https://www.francetvinfo.fr/monde/europe/manifestations-en-ukraine/guerre-en-ukraine-quelle-aide-la-france-peut-elle-apporter_6370036.html#xtor=RSS-3-[france]\n",
      "Animaux : dans les coulisses du Parc des oiseaux durant l'hiver Fri, 16 Feb 2024 16:09:05 +0100 https://www.francetvinfo.fr/animaux/animaux-dans-les-coulisses-du-parc-des-oiseaux-durant-l-hiver_6369964.html#xtor=RSS-3-[france]\n",
      "Patrimoine : le château de Chenonceau, un bijou de la Renaissance Fri, 16 Feb 2024 16:04:48 +0100 https://www.francetvinfo.fr/culture/patrimoine/patrimoine-le-chateau-de-chenonceau-un-bijou-de-la-renaissance_6369958.html#xtor=RSS-3-[france]\n",
      "\"Saint-Esprit\" : le précieux bijou de famille des Auvergnats Fri, 16 Feb 2024 16:00:45 +0100 https://www.francetvinfo.fr/culture/patrimoine/saint-esprit-le-precieux-bijou-de-famille-des-auvergnats_6369940.html#xtor=RSS-3-[france]\n",
      "Autoroute A69 : des tensions entre forces de l'ordre et militants Fri, 16 Feb 2024 15:57:00 +0100 https://www.francetvinfo.fr/monde/environnement/autoroute-a69-des-tensions-entre-forces-de-l-ordre-et-militants_6369928.html#xtor=RSS-3-[france]\n",
      "Haute-Savoie : avec le manque de neige, les stations d'altitude sont prisées Fri, 16 Feb 2024 15:48:41 +0100 https://www.francetvinfo.fr/france/auvergne-rhone-alpes/haute-savoie/haute-savoie-avec-le-manque-de-neige-les-stations-d-altitude-sont-prisees_6369916.html#xtor=RSS-3-[france]\n",
      "Robert Badinter, barrages à Mayotte et vie privée des enfants : l'actualité à hauteur d'enfant Fri, 16 Feb 2024 14:16:37 +0100 https://www.francetvinfo.fr/replay-radio/salut-l-info/robert-badinter-barrages-a-mayotte-et-vie-privee-des-enfants_6369778.html#xtor=RSS-3-[france]\n",
      "Grève des contrôleurs SNCF : la Bretagne manque de touristes Fri, 16 Feb 2024 14:01:57 +0100 https://www.francetvinfo.fr/economie/transports/sncf/greve-a-la-sncf/greve-des-controleurs-sncf-la-bretagne-manque-de-touristes_6369820.html#xtor=RSS-3-[france]\n",
      "Pyrénées-Atlantiques : un établissement scolaire catholique visé par 33 plaintes d'anciens élèves pour  violences, agressions sexuelles ou viols Fri, 16 Feb 2024 12:01:54 +0100 https://www.francetvinfo.fr/societe/harcelement-sexuel/pyrenees-atlantiques-un-etablissement-scolaire-catholique-vise-par-33-plaintes-d-anciens-eleves-pour-violences-sexuelles_6366058.html#xtor=RSS-3-[france]\n",
      "Environnement : à Saint-Malo, fronde contre le paquebot de la démesure Fri, 16 Feb 2024 10:20:35 +0100 https://www.francetvinfo.fr/monde/environnement/environnement-a-saint-malo-fronde-contre-le-paquebot-de-la-demesure_6369517.html#xtor=RSS-3-[france]\n",
      "Abattage d'arbres en bord de route en Haute-Marne : le cri d'alarme de la Ligue pour la protection des oiseaux Fri, 16 Feb 2024 10:14:10 +0100 https://www.francetvinfo.fr/societe/securite-routiere/abattage-d-arbres-en-bord-de-route-en-haute-marne-le-cri-d-alarme-de-la-ligue-pour-la-protection-des-oiseaux_6369505.html#xtor=RSS-3-[france]\n",
      "Mayotte : la crise se poursuit malgré les annonces du gouvernement Fri, 16 Feb 2024 10:05:50 +0100 https://www.francetvinfo.fr/france/mayotte/mayotte-la-crise-se-poursuit-malgre-les-annonces-du-gouvernement_6369490.html#xtor=RSS-3-[france]\n",
      "Autonomie de la Corse : le projet de texte constitutionnel sera soumis aux élus insulaires le 26 février, annonce Gérald Darmanin Fri, 16 Feb 2024 08:52:50 +0100 https://www.francetvinfo.fr/france/corse/corse/autonomie-de-la-corse-le-projet-de-texte-constitutionnel-sera-soumis-aux-elus-insulaires-le-26-fevrier-annonce-gerald-darmanin_6369397.html#xtor=RSS-3-[france]\n",
      "Commerce : le business florissant de la revente de colis non distribués Thu, 15 Feb 2024 22:52:04 +0100 https://www.francetvinfo.fr/economie/commerce/commerce-le-business-florissant-de-la-revente-de-colis-non-distribues_6368200.html#xtor=RSS-3-[france]\n",
      "Médecines alternatives : les remboursements des consultations en Seine-et-Marne suscitent la polémique Thu, 15 Feb 2024 22:51:28 +0100 https://www.francetvinfo.fr/sante/medecines-alternatives-les-remboursements-des-consultations-en-seine-et-marne-suscitent-la-polemique_6368206.html#xtor=RSS-3-[france]\n"
     ]
    }
   ],
   "source": [
    "# (a) se premunir contre le bloquage de commande\n",
    "import ssl\n",
    "ssl._create_default_https_context = ssl._create_unverified_context\n",
    "# (b) recuperer le fichier RSS\n",
    "import feedparser as fp\n",
    "url = rss_sources['france']\n",
    "data = fp.parse(url)\n",
    "# (c) visualiser les elements du fichier RSS\n",
    "print(data.feed.title)\n",
    "print(data.feed.published)\n",
    "# (d) iterer sur les entrees du flux RSS\n",
    "for item in data.entries:\n",
    "    print(item.title, item.published, item.link)"
   ]
  },
  {
   "cell_type": "code",
   "execution_count": 48,
   "metadata": {},
   "outputs": [
    {
     "name": "stdout",
     "output_type": "stream",
     "text": [
      "[['Marseille : un suspect de 16 ans mis en examen pour assassinat après la mort d’une femme tuée par une balle perdue', 'https://www.francetvinfo.fr/faits-divers/criminalite-a-marseille/marseille-un-suspect-de-16-ans-mis-en-examen-pour-assassinat-apres-la-mort-d-une-femme-tuee-par-une-balle-perdue_6371773.html#xtor=RSS-3-[france]'], ['William Saurin : \"Les Français redécouvrent la conserve\" assure son directeur marketing', 'https://www.francetvinfo.fr/replay-radio/ca-nous-marque/william-saurin-les-francais-redecouvrent-la-conserve-assure-son-directeur-marketing_6341929.html#xtor=RSS-3-[france]'], ['Politesse : faut-il demander à ses invités de retirer leurs chaussures ?', 'https://www.francetvinfo.fr/sante/politesse-faut-il-demander-a-ses-invites-de-retirer-leurs-chaussures_6370471.html#xtor=RSS-3-[france]'], [\"Uniforme à l'école : la tenue unique ne fait pas l'unanimité\", 'https://www.francetvinfo.fr/societe/education/uniforme-a-l-ecole-la-tenue-unique-ne-fait-pas-l-unanimite_6370441.html#xtor=RSS-3-[france]'], ['Femme tuée par une balle perdue à Marseille : un suspect de 16 ans mis en examen pour assassinat', 'https://www.francetvinfo.fr/faits-divers/femme-tuee-par-une-balle-perdue-a-marseille-un-suspect-de-16-ans-mis-en-examen-pour-assassinat_6370378.html#xtor=RSS-3-[france]'], ['Guerre en Ukraine : quelle aide la France peut-elle apporter ?', 'https://www.francetvinfo.fr/monde/europe/manifestations-en-ukraine/guerre-en-ukraine-quelle-aide-la-france-peut-elle-apporter_6370036.html#xtor=RSS-3-[france]'], [\"Animaux : dans les coulisses du Parc des oiseaux durant l'hiver\", 'https://www.francetvinfo.fr/animaux/animaux-dans-les-coulisses-du-parc-des-oiseaux-durant-l-hiver_6369964.html#xtor=RSS-3-[france]'], ['Patrimoine : le château de Chenonceau, un bijou de la Renaissance', 'https://www.francetvinfo.fr/culture/patrimoine/patrimoine-le-chateau-de-chenonceau-un-bijou-de-la-renaissance_6369958.html#xtor=RSS-3-[france]'], ['\"Saint-Esprit\" : le précieux bijou de famille des Auvergnats', 'https://www.francetvinfo.fr/culture/patrimoine/saint-esprit-le-precieux-bijou-de-famille-des-auvergnats_6369940.html#xtor=RSS-3-[france]'], [\"Autoroute A69 : des tensions entre forces de l'ordre et militants\", 'https://www.francetvinfo.fr/monde/environnement/autoroute-a69-des-tensions-entre-forces-de-l-ordre-et-militants_6369928.html#xtor=RSS-3-[france]'], [\"Haute-Savoie : avec le manque de neige, les stations d'altitude sont prisées\", 'https://www.francetvinfo.fr/france/auvergne-rhone-alpes/haute-savoie/haute-savoie-avec-le-manque-de-neige-les-stations-d-altitude-sont-prisees_6369916.html#xtor=RSS-3-[france]'], [\"Robert Badinter, barrages à Mayotte et vie privée des enfants : l'actualité à hauteur d'enfant\", 'https://www.francetvinfo.fr/replay-radio/salut-l-info/robert-badinter-barrages-a-mayotte-et-vie-privee-des-enfants_6369778.html#xtor=RSS-3-[france]'], ['Grève des contrôleurs SNCF : la Bretagne manque de touristes', 'https://www.francetvinfo.fr/economie/transports/sncf/greve-a-la-sncf/greve-des-controleurs-sncf-la-bretagne-manque-de-touristes_6369820.html#xtor=RSS-3-[france]'], [\"Pyrénées-Atlantiques : un établissement scolaire catholique visé par 33 plaintes d'anciens élèves pour  violences, agressions sexuelles ou viols\", 'https://www.francetvinfo.fr/societe/harcelement-sexuel/pyrenees-atlantiques-un-etablissement-scolaire-catholique-vise-par-33-plaintes-d-anciens-eleves-pour-violences-sexuelles_6366058.html#xtor=RSS-3-[france]'], ['Environnement : à Saint-Malo, fronde contre le paquebot de la démesure', 'https://www.francetvinfo.fr/monde/environnement/environnement-a-saint-malo-fronde-contre-le-paquebot-de-la-demesure_6369517.html#xtor=RSS-3-[france]'], [\"Abattage d'arbres en bord de route en Haute-Marne : le cri d'alarme de la Ligue pour la protection des oiseaux\", 'https://www.francetvinfo.fr/societe/securite-routiere/abattage-d-arbres-en-bord-de-route-en-haute-marne-le-cri-d-alarme-de-la-ligue-pour-la-protection-des-oiseaux_6369505.html#xtor=RSS-3-[france]'], ['Mayotte : la crise se poursuit malgré les annonces du gouvernement', 'https://www.francetvinfo.fr/france/mayotte/mayotte-la-crise-se-poursuit-malgre-les-annonces-du-gouvernement_6369490.html#xtor=RSS-3-[france]'], ['Autonomie de la Corse : le projet de texte constitutionnel sera soumis aux élus insulaires le 26 février, annonce Gérald Darmanin', 'https://www.francetvinfo.fr/france/corse/corse/autonomie-de-la-corse-le-projet-de-texte-constitutionnel-sera-soumis-aux-elus-insulaires-le-26-fevrier-annonce-gerald-darmanin_6369397.html#xtor=RSS-3-[france]'], ['Commerce : le business florissant de la revente de colis non distribués', 'https://www.francetvinfo.fr/economie/commerce/commerce-le-business-florissant-de-la-revente-de-colis-non-distribues_6368200.html#xtor=RSS-3-[france]'], ['Médecines alternatives :\\xa0les remboursements des consultations en Seine-et-Marne suscitent la polémique', 'https://www.francetvinfo.fr/sante/medecines-alternatives-les-remboursements-des-consultations-en-seine-et-marne-suscitent-la-polemique_6368206.html#xtor=RSS-3-[france]'], ['Marseille : un suspect de 16 ans mis en examen pour assassinat après la mort d’une femme tuée par une balle perdue', 'https://www.francetvinfo.fr/faits-divers/criminalite-a-marseille/marseille-un-suspect-de-16-ans-mis-en-examen-pour-assassinat-apres-la-mort-d-une-femme-tuee-par-une-balle-perdue_6371773.html#xtor=RSS-3-[france]'], ['William Saurin : \"Les Français redécouvrent la conserve\" assure son directeur marketing', 'https://www.francetvinfo.fr/replay-radio/ca-nous-marque/william-saurin-les-francais-redecouvrent-la-conserve-assure-son-directeur-marketing_6341929.html#xtor=RSS-3-[france]'], ['Politesse : faut-il demander à ses invités de retirer leurs chaussures ?', 'https://www.francetvinfo.fr/sante/politesse-faut-il-demander-a-ses-invites-de-retirer-leurs-chaussures_6370471.html#xtor=RSS-3-[france]'], [\"Uniforme à l'école : la tenue unique ne fait pas l'unanimité\", 'https://www.francetvinfo.fr/societe/education/uniforme-a-l-ecole-la-tenue-unique-ne-fait-pas-l-unanimite_6370441.html#xtor=RSS-3-[france]'], ['Femme tuée par une balle perdue à Marseille : un suspect de 16 ans mis en examen pour assassinat', 'https://www.francetvinfo.fr/faits-divers/femme-tuee-par-une-balle-perdue-a-marseille-un-suspect-de-16-ans-mis-en-examen-pour-assassinat_6370378.html#xtor=RSS-3-[france]'], ['Guerre en Ukraine : quelle aide la France peut-elle apporter ?', 'https://www.francetvinfo.fr/monde/europe/manifestations-en-ukraine/guerre-en-ukraine-quelle-aide-la-france-peut-elle-apporter_6370036.html#xtor=RSS-3-[france]'], [\"Animaux : dans les coulisses du Parc des oiseaux durant l'hiver\", 'https://www.francetvinfo.fr/animaux/animaux-dans-les-coulisses-du-parc-des-oiseaux-durant-l-hiver_6369964.html#xtor=RSS-3-[france]'], ['Patrimoine : le château de Chenonceau, un bijou de la Renaissance', 'https://www.francetvinfo.fr/culture/patrimoine/patrimoine-le-chateau-de-chenonceau-un-bijou-de-la-renaissance_6369958.html#xtor=RSS-3-[france]'], ['\"Saint-Esprit\" : le précieux bijou de famille des Auvergnats', 'https://www.francetvinfo.fr/culture/patrimoine/saint-esprit-le-precieux-bijou-de-famille-des-auvergnats_6369940.html#xtor=RSS-3-[france]'], [\"Autoroute A69 : des tensions entre forces de l'ordre et militants\", 'https://www.francetvinfo.fr/monde/environnement/autoroute-a69-des-tensions-entre-forces-de-l-ordre-et-militants_6369928.html#xtor=RSS-3-[france]'], [\"Haute-Savoie : avec le manque de neige, les stations d'altitude sont prisées\", 'https://www.francetvinfo.fr/france/auvergne-rhone-alpes/haute-savoie/haute-savoie-avec-le-manque-de-neige-les-stations-d-altitude-sont-prisees_6369916.html#xtor=RSS-3-[france]'], [\"Robert Badinter, barrages à Mayotte et vie privée des enfants : l'actualité à hauteur d'enfant\", 'https://www.francetvinfo.fr/replay-radio/salut-l-info/robert-badinter-barrages-a-mayotte-et-vie-privee-des-enfants_6369778.html#xtor=RSS-3-[france]'], ['Grève des contrôleurs SNCF : la Bretagne manque de touristes', 'https://www.francetvinfo.fr/economie/transports/sncf/greve-a-la-sncf/greve-des-controleurs-sncf-la-bretagne-manque-de-touristes_6369820.html#xtor=RSS-3-[france]'], [\"Pyrénées-Atlantiques : un établissement scolaire catholique visé par 33 plaintes d'anciens élèves pour  violences, agressions sexuelles ou viols\", 'https://www.francetvinfo.fr/societe/harcelement-sexuel/pyrenees-atlantiques-un-etablissement-scolaire-catholique-vise-par-33-plaintes-d-anciens-eleves-pour-violences-sexuelles_6366058.html#xtor=RSS-3-[france]'], ['Environnement : à Saint-Malo, fronde contre le paquebot de la démesure', 'https://www.francetvinfo.fr/monde/environnement/environnement-a-saint-malo-fronde-contre-le-paquebot-de-la-demesure_6369517.html#xtor=RSS-3-[france]'], [\"Abattage d'arbres en bord de route en Haute-Marne : le cri d'alarme de la Ligue pour la protection des oiseaux\", 'https://www.francetvinfo.fr/societe/securite-routiere/abattage-d-arbres-en-bord-de-route-en-haute-marne-le-cri-d-alarme-de-la-ligue-pour-la-protection-des-oiseaux_6369505.html#xtor=RSS-3-[france]'], ['Mayotte : la crise se poursuit malgré les annonces du gouvernement', 'https://www.francetvinfo.fr/france/mayotte/mayotte-la-crise-se-poursuit-malgre-les-annonces-du-gouvernement_6369490.html#xtor=RSS-3-[france]'], ['Autonomie de la Corse : le projet de texte constitutionnel sera soumis aux élus insulaires le 26 février, annonce Gérald Darmanin', 'https://www.francetvinfo.fr/france/corse/corse/autonomie-de-la-corse-le-projet-de-texte-constitutionnel-sera-soumis-aux-elus-insulaires-le-26-fevrier-annonce-gerald-darmanin_6369397.html#xtor=RSS-3-[france]'], ['Commerce : le business florissant de la revente de colis non distribués', 'https://www.francetvinfo.fr/economie/commerce/commerce-le-business-florissant-de-la-revente-de-colis-non-distribues_6368200.html#xtor=RSS-3-[france]'], ['Médecines alternatives :\\xa0les remboursements des consultations en Seine-et-Marne suscitent la polémique', 'https://www.francetvinfo.fr/sante/medecines-alternatives-les-remboursements-des-consultations-en-seine-et-marne-suscitent-la-polemique_6368206.html#xtor=RSS-3-[france]'], ['Marseille : un suspect de 16 ans mis en examen pour assassinat après la mort d’une femme tuée par une balle perdue', 'https://www.francetvinfo.fr/faits-divers/criminalite-a-marseille/marseille-un-suspect-de-16-ans-mis-en-examen-pour-assassinat-apres-la-mort-d-une-femme-tuee-par-une-balle-perdue_6371773.html#xtor=RSS-3-[france]'], ['William Saurin : \"Les Français redécouvrent la conserve\" assure son directeur marketing', 'https://www.francetvinfo.fr/replay-radio/ca-nous-marque/william-saurin-les-francais-redecouvrent-la-conserve-assure-son-directeur-marketing_6341929.html#xtor=RSS-3-[france]'], ['Politesse : faut-il demander à ses invités de retirer leurs chaussures ?', 'https://www.francetvinfo.fr/sante/politesse-faut-il-demander-a-ses-invites-de-retirer-leurs-chaussures_6370471.html#xtor=RSS-3-[france]'], [\"Uniforme à l'école : la tenue unique ne fait pas l'unanimité\", 'https://www.francetvinfo.fr/societe/education/uniforme-a-l-ecole-la-tenue-unique-ne-fait-pas-l-unanimite_6370441.html#xtor=RSS-3-[france]'], ['Femme tuée par une balle perdue à Marseille : un suspect de 16 ans mis en examen pour assassinat', 'https://www.francetvinfo.fr/faits-divers/femme-tuee-par-une-balle-perdue-a-marseille-un-suspect-de-16-ans-mis-en-examen-pour-assassinat_6370378.html#xtor=RSS-3-[france]'], ['Guerre en Ukraine : quelle aide la France peut-elle apporter ?', 'https://www.francetvinfo.fr/monde/europe/manifestations-en-ukraine/guerre-en-ukraine-quelle-aide-la-france-peut-elle-apporter_6370036.html#xtor=RSS-3-[france]'], [\"Animaux : dans les coulisses du Parc des oiseaux durant l'hiver\", 'https://www.francetvinfo.fr/animaux/animaux-dans-les-coulisses-du-parc-des-oiseaux-durant-l-hiver_6369964.html#xtor=RSS-3-[france]'], ['Patrimoine : le château de Chenonceau, un bijou de la Renaissance', 'https://www.francetvinfo.fr/culture/patrimoine/patrimoine-le-chateau-de-chenonceau-un-bijou-de-la-renaissance_6369958.html#xtor=RSS-3-[france]'], ['\"Saint-Esprit\" : le précieux bijou de famille des Auvergnats', 'https://www.francetvinfo.fr/culture/patrimoine/saint-esprit-le-precieux-bijou-de-famille-des-auvergnats_6369940.html#xtor=RSS-3-[france]'], [\"Autoroute A69 : des tensions entre forces de l'ordre et militants\", 'https://www.francetvinfo.fr/monde/environnement/autoroute-a69-des-tensions-entre-forces-de-l-ordre-et-militants_6369928.html#xtor=RSS-3-[france]'], [\"Haute-Savoie : avec le manque de neige, les stations d'altitude sont prisées\", 'https://www.francetvinfo.fr/france/auvergne-rhone-alpes/haute-savoie/haute-savoie-avec-le-manque-de-neige-les-stations-d-altitude-sont-prisees_6369916.html#xtor=RSS-3-[france]'], [\"Robert Badinter, barrages à Mayotte et vie privée des enfants : l'actualité à hauteur d'enfant\", 'https://www.francetvinfo.fr/replay-radio/salut-l-info/robert-badinter-barrages-a-mayotte-et-vie-privee-des-enfants_6369778.html#xtor=RSS-3-[france]'], ['Grève des contrôleurs SNCF : la Bretagne manque de touristes', 'https://www.francetvinfo.fr/economie/transports/sncf/greve-a-la-sncf/greve-des-controleurs-sncf-la-bretagne-manque-de-touristes_6369820.html#xtor=RSS-3-[france]'], [\"Pyrénées-Atlantiques : un établissement scolaire catholique visé par 33 plaintes d'anciens élèves pour  violences, agressions sexuelles ou viols\", 'https://www.francetvinfo.fr/societe/harcelement-sexuel/pyrenees-atlantiques-un-etablissement-scolaire-catholique-vise-par-33-plaintes-d-anciens-eleves-pour-violences-sexuelles_6366058.html#xtor=RSS-3-[france]'], ['Environnement : à Saint-Malo, fronde contre le paquebot de la démesure', 'https://www.francetvinfo.fr/monde/environnement/environnement-a-saint-malo-fronde-contre-le-paquebot-de-la-demesure_6369517.html#xtor=RSS-3-[france]'], [\"Abattage d'arbres en bord de route en Haute-Marne : le cri d'alarme de la Ligue pour la protection des oiseaux\", 'https://www.francetvinfo.fr/societe/securite-routiere/abattage-d-arbres-en-bord-de-route-en-haute-marne-le-cri-d-alarme-de-la-ligue-pour-la-protection-des-oiseaux_6369505.html#xtor=RSS-3-[france]'], ['Mayotte : la crise se poursuit malgré les annonces du gouvernement', 'https://www.francetvinfo.fr/france/mayotte/mayotte-la-crise-se-poursuit-malgre-les-annonces-du-gouvernement_6369490.html#xtor=RSS-3-[france]'], ['Autonomie de la Corse : le projet de texte constitutionnel sera soumis aux élus insulaires le 26 février, annonce Gérald Darmanin', 'https://www.francetvinfo.fr/france/corse/corse/autonomie-de-la-corse-le-projet-de-texte-constitutionnel-sera-soumis-aux-elus-insulaires-le-26-fevrier-annonce-gerald-darmanin_6369397.html#xtor=RSS-3-[france]'], ['Commerce : le business florissant de la revente de colis non distribués', 'https://www.francetvinfo.fr/economie/commerce/commerce-le-business-florissant-de-la-revente-de-colis-non-distribues_6368200.html#xtor=RSS-3-[france]'], ['Médecines alternatives :\\xa0les remboursements des consultations en Seine-et-Marne suscitent la polémique', 'https://www.francetvinfo.fr/sante/medecines-alternatives-les-remboursements-des-consultations-en-seine-et-marne-suscitent-la-polemique_6368206.html#xtor=RSS-3-[france]']]\n"
     ]
    }
   ],
   "source": [
    "def is_article_in_database(article_url, database):\n",
    "    return article_url in database\n",
    "\n",
    "new_articles = []\n",
    "\n",
    "for category, url in rss_sources.items():\n",
    "    url = rss_sources['france']\n",
    "    data = fp.parse(url)\n",
    "    for item in data.entries:\n",
    "        if not is_article_in_database(item.link, database):\n",
    "            new_articles.append([item.title, item.link])\n",
    "\n",
    "print(new_articles)"
   ]
  },
  {
   "cell_type": "code",
   "execution_count": 55,
   "metadata": {},
   "outputs": [
    {
     "name": "stdout",
     "output_type": "stream",
     "text": [
      "\"Saint-Esprit\" : le précieux bijou de famille des Auvergnats []\n",
      "Le Saint-Esprit est un bijou précieux dont l'origine remonte au XVIIIᵉ siècle. Il revêtait une signification particulière lors de la célébration des noces. Aujourd'hui encore, la tradition de ce bijou se perpétue dans certaines régions. - (France 2)\n",
      "\n",
      "Le Saint-Esprit est un bijou précieux dont l'origine remonte au XVIIIᵉ siècle. Il revêtait une signification particulière lors de la célébration des noces. Aujourd'hui encore, la tradition de ce bijou se perpétue dans certaines régions.\n",
      "\n",
      "Serti de diamants et ornés de pierres précieuses, le Saint-Esprit est un bijou d'un autre temps et un secret bien gardé de nombreuses familles auvergnates. Marie-Hélène Villaret a hérité de ce trésor régional, transmis de génération en génération. \"Il appartenait à mon arrière-grand-mère maternelle. Je pense qu'elle a dû le recevoir pour son mariage\", précise-t-elle.\n",
      "\n",
      "\n",
      "\n",
      "Le respect des traditions\n",
      "\n",
      "Conformément à la tradition, le bijou représente une colombe à laquelle trois pendants en forme de larmes sont accrochés. Pour le porter au quotidien, l'auvergnate Marie-Hélène a décidé de le restaurer dans un atelier spécialisé. Outre la rénovation, Amandine Tardieu, joaillère, fabrique aussi des Saint-Esprit. Il faut compter entre 12 et 30 heures de travail pour chaque pièce, dans le respect des traditions. Désormais, le bijou est remis au goût du jour à l'aide de nouvelles formes et de nouveaux matériaux.\n",
      "https://www.francetvinfo.fr/pictures/NIPmqkI3qRtgodDNaPVhI9ODPrs/1500x843/2024/02/16/saint-esprit-65cf78381fa95126623313.jpg\n"
     ]
    }
   ],
   "source": [
    "import newspaper as np\n",
    "article = np.Article('https://www.francetvinfo.fr/culture/patrimoine/saint-esprit-le-precieux-bijou-de-famille-des-auvergnats_6369940.html#xtor=RSS-3-[france].html')\n",
    "article.download()\n",
    "article.parse()\n",
    "print(article.title, article.authors)\n",
    "print(article.text)\n",
    "print(article.top_image)"
   ]
  },
  {
   "cell_type": "code",
   "execution_count": 61,
   "metadata": {},
   "outputs": [
    {
     "name": "stdout",
     "output_type": "stream",
     "text": [
      "\"Saint-Esprit\" : le précieux bijou de famille des Auvergnats\n",
      "Le Saint-Esprit est un bijou précieux dont l'origine remonte au XVIIIᵉ siècle. Il revêtait une signification particulière lors de la célébration des noces. Aujourd'hui encore, la tradition de ce bijou se perpétue dans certaines régions. - (France 2)\n",
      "\n",
      "Le Saint-Esprit est un bijou précieux dont l'origine remonte au XVIIIᵉ siècle. Il revêtait une signification particulière lors de la célébration des noces. Aujourd'hui encore, la tradition de ce bijou se perpétue dans certaines régions.\n",
      "\n",
      "Serti de diamants et ornés de pierres précieuses, le Saint-Esprit est un bijou d'un autre temps et un secret bien gardé de nombreuses familles auvergnates. Marie-Hélène Villaret a hérité de ce trésor régional, transmis de génération en génération. \"Il appartenait à mon arrière-grand-mère maternelle. Je pense qu'elle a dû le recevoir pour son mariage\", précise-t-elle.\n",
      "\n",
      "\n",
      "\n",
      "Le respect des traditions\n",
      "\n",
      "Conformément à la tradition, le bijou représente une colombe à laquelle trois pendants en forme de larmes sont accrochés. Pour le porter au quotidien, l'auvergnate Marie-Hélène a décidé de le restaurer dans un atelier spécialisé. Outre la rénovation, Amandine Tardieu, joaillère, fabrique aussi des Saint-Esprit. Il faut compter entre 12 et 30 heures de travail pour chaque pièce, dans le respect des traditions. Désormais, le bijou est remis au goût du jour à l'aide de nouvelles formes et de nouveaux matériaux.\n",
      "https://www.francetvinfo.fr/pictures/NIPmqkI3qRtgodDNaPVhI9ODPrs/1500x843/2024/02/16/saint-esprit-65cf78381fa95126623313.jpg\n"
     ]
    }
   ],
   "source": [
    "article = np.Article('https://www.francetvinfo.fr/culture/patrimoine/saint-esprit-le-precieux-bijou-de-famille-des-auvergnats_6369940.html#xtor=RSS-3-[france].html')\n",
    "article.download()\n",
    "article.parse()\n",
    "print(article.title)\n",
    "print(article.text)\n",
    "print(article.top_image)"
   ]
  }
 ],
 "metadata": {
  "kernelspec": {
   "display_name": "Python 3",
   "language": "python",
   "name": "python3"
  },
  "language_info": {
   "codemirror_mode": {
    "name": "ipython",
    "version": 3
   },
   "file_extension": ".py",
   "mimetype": "text/x-python",
   "name": "python",
   "nbconvert_exporter": "python",
   "pygments_lexer": "ipython3",
   "version": "3.8.10"
  }
 },
 "nbformat": 4,
 "nbformat_minor": 2
}
